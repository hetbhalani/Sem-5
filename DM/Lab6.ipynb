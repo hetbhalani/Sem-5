{
 "cells": [
  {
   "cell_type": "markdown",
   "id": "ee840995",
   "metadata": {},
   "source": [
    "<a href='https://www.darshan.ac.in/'> <img src='https://www.darshan.ac.in/Content/media/DU_Logo.svg' width=\"250\" height=\"300\"/></a>\n",
    "<pre>\n",
    "<center><b><h1>Data Mining</b></center>\n",
    "<center><b><h1>Lab - 6</b></center>    \n",
    "<pre>\n",
    "\n",
    "\n",
    "# Dimensionality Reduction using NumPy\n",
    "\n"
   ]
  },
  {
   "cell_type": "markdown",
   "id": "55e2da2f",
   "metadata": {},
   "source": [
    "\n",
    "## 🔍 What is Data Reduction?\n",
    "\n",
    "Data reduction refers to the process of reducing the amount of data that needs to be processed and stored, while preserving the essential patterns in the data.\n",
    "\n",
    "### Why do we reduce data?\n",
    "- To reduce computational cost.\n",
    "- To remove noise and redundant features.\n",
    "- To improve model performance and training time.\n",
    "- To visualize high-dimensional data in 2D or 3D.\n",
    "\n",
    "Common data reduction techniques include:\n",
    "- Principal Component Analysis (PCA)\n",
    "- Feature selection\n",
    "- Sampling\n"
   ]
  },
  {
   "cell_type": "markdown",
   "id": "c57398c8",
   "metadata": {},
   "source": [
    "\n",
    "## 📉 What is Principal Component Analysis (PCA)?\n",
    "\n",
    "PCA is a **dimensionality reduction technique** that transforms a dataset into a new coordinate system. It identifies the **directions (principal components)** where the variance of the data is maximized.\n",
    "\n",
    "### Key Concepts:\n",
    "- **Principal Components**: New features (linear combinations of original features) capturing most variance.\n",
    "- **Eigenvectors & Eigenvalues**: Used to compute these principal directions.\n",
    "- **Covariance Matrix**: Measures how features vary with each other.\n",
    "\n",
    "PCA helps in **visualizing high-dimensional data**, **noise reduction**, and **speeding up algorithms**.\n"
   ]
  },
  {
   "cell_type": "markdown",
   "id": "8d08c528",
   "metadata": {},
   "source": [
    "\n",
    "## 🧠 NumPy Functions Summary for PCA\n",
    "\n",
    "| Function | Purpose |\n",
    "|---------|---------|\n",
    "| `np.mean(X, axis=0)` | Compute mean of each column (feature-wise mean). |\n",
    "| `X - np.mean(X, axis=0)` | Centering the data (zero mean). |\n",
    "| `np.cov(X, rowvar=False)` | Compute covariance matrix for features. |\n",
    "| `np.linalg.eigh(cov_mat)` | Get eigenvalues and eigenvectors (for symmetric matrices). |\n",
    "| `np.argsort(values)[::-1]` | Sort values in descending order. |\n",
    "| `np.dot(X, eigenvectors)` | Project original data onto new axes. |\n"
   ]
  },
  {
   "cell_type": "markdown",
   "id": "719ba8cf",
   "metadata": {},
   "source": [
    "# Step 1: Load the Iris Dataset"
   ]
  },
  {
   "cell_type": "code",
   "execution_count": 72,
   "id": "31f30ae7",
   "metadata": {},
   "outputs": [
    {
     "data": {
      "text/html": [
       "<div>\n",
       "<style scoped>\n",
       "    .dataframe tbody tr th:only-of-type {\n",
       "        vertical-align: middle;\n",
       "    }\n",
       "\n",
       "    .dataframe tbody tr th {\n",
       "        vertical-align: top;\n",
       "    }\n",
       "\n",
       "    .dataframe thead th {\n",
       "        text-align: right;\n",
       "    }\n",
       "</style>\n",
       "<table border=\"1\" class=\"dataframe\">\n",
       "  <thead>\n",
       "    <tr style=\"text-align: right;\">\n",
       "      <th></th>\n",
       "      <th>sepal_length</th>\n",
       "      <th>sepal_width</th>\n",
       "      <th>petal_length</th>\n",
       "      <th>petal_width</th>\n",
       "      <th>species</th>\n",
       "    </tr>\n",
       "  </thead>\n",
       "  <tbody>\n",
       "    <tr>\n",
       "      <th>0</th>\n",
       "      <td>5.1</td>\n",
       "      <td>3.5</td>\n",
       "      <td>1.4</td>\n",
       "      <td>0.2</td>\n",
       "      <td>setosa</td>\n",
       "    </tr>\n",
       "    <tr>\n",
       "      <th>1</th>\n",
       "      <td>4.9</td>\n",
       "      <td>3.0</td>\n",
       "      <td>1.4</td>\n",
       "      <td>0.2</td>\n",
       "      <td>setosa</td>\n",
       "    </tr>\n",
       "    <tr>\n",
       "      <th>2</th>\n",
       "      <td>4.7</td>\n",
       "      <td>3.2</td>\n",
       "      <td>1.3</td>\n",
       "      <td>0.2</td>\n",
       "      <td>setosa</td>\n",
       "    </tr>\n",
       "    <tr>\n",
       "      <th>3</th>\n",
       "      <td>4.6</td>\n",
       "      <td>3.1</td>\n",
       "      <td>1.5</td>\n",
       "      <td>0.2</td>\n",
       "      <td>setosa</td>\n",
       "    </tr>\n",
       "    <tr>\n",
       "      <th>4</th>\n",
       "      <td>5.0</td>\n",
       "      <td>3.6</td>\n",
       "      <td>1.4</td>\n",
       "      <td>0.2</td>\n",
       "      <td>setosa</td>\n",
       "    </tr>\n",
       "    <tr>\n",
       "      <th>...</th>\n",
       "      <td>...</td>\n",
       "      <td>...</td>\n",
       "      <td>...</td>\n",
       "      <td>...</td>\n",
       "      <td>...</td>\n",
       "    </tr>\n",
       "    <tr>\n",
       "      <th>145</th>\n",
       "      <td>6.7</td>\n",
       "      <td>3.0</td>\n",
       "      <td>5.2</td>\n",
       "      <td>2.3</td>\n",
       "      <td>virginica</td>\n",
       "    </tr>\n",
       "    <tr>\n",
       "      <th>146</th>\n",
       "      <td>6.3</td>\n",
       "      <td>2.5</td>\n",
       "      <td>5.0</td>\n",
       "      <td>1.9</td>\n",
       "      <td>virginica</td>\n",
       "    </tr>\n",
       "    <tr>\n",
       "      <th>147</th>\n",
       "      <td>6.5</td>\n",
       "      <td>3.0</td>\n",
       "      <td>5.2</td>\n",
       "      <td>2.0</td>\n",
       "      <td>virginica</td>\n",
       "    </tr>\n",
       "    <tr>\n",
       "      <th>148</th>\n",
       "      <td>6.2</td>\n",
       "      <td>3.4</td>\n",
       "      <td>5.4</td>\n",
       "      <td>2.3</td>\n",
       "      <td>virginica</td>\n",
       "    </tr>\n",
       "    <tr>\n",
       "      <th>149</th>\n",
       "      <td>5.9</td>\n",
       "      <td>3.0</td>\n",
       "      <td>5.1</td>\n",
       "      <td>1.8</td>\n",
       "      <td>virginica</td>\n",
       "    </tr>\n",
       "  </tbody>\n",
       "</table>\n",
       "<p>150 rows × 5 columns</p>\n",
       "</div>"
      ],
      "text/plain": [
       "     sepal_length  sepal_width  petal_length  petal_width    species\n",
       "0             5.1          3.5           1.4          0.2     setosa\n",
       "1             4.9          3.0           1.4          0.2     setosa\n",
       "2             4.7          3.2           1.3          0.2     setosa\n",
       "3             4.6          3.1           1.5          0.2     setosa\n",
       "4             5.0          3.6           1.4          0.2     setosa\n",
       "..            ...          ...           ...          ...        ...\n",
       "145           6.7          3.0           5.2          2.3  virginica\n",
       "146           6.3          2.5           5.0          1.9  virginica\n",
       "147           6.5          3.0           5.2          2.0  virginica\n",
       "148           6.2          3.4           5.4          2.3  virginica\n",
       "149           5.9          3.0           5.1          1.8  virginica\n",
       "\n",
       "[150 rows x 5 columns]"
      ]
     },
     "execution_count": 72,
     "metadata": {},
     "output_type": "execute_result"
    }
   ],
   "source": [
    "import pandas as pd\n",
    "import numpy as np\n",
    "df = pd.read_csv('iris.csv')\n",
    "df"
   ]
  },
  {
   "cell_type": "code",
   "execution_count": 73,
   "id": "e68cf558",
   "metadata": {},
   "outputs": [
    {
     "data": {
      "text/plain": [
       "(150, 5)"
      ]
     },
     "execution_count": 73,
     "metadata": {},
     "output_type": "execute_result"
    }
   ],
   "source": [
    "df.shape"
   ]
  },
  {
   "cell_type": "markdown",
   "id": "e30873a5",
   "metadata": {},
   "source": [
    "# Step 2: Standardize the data (zero mean)"
   ]
  },
  {
   "cell_type": "code",
   "execution_count": 74,
   "id": "73f84737",
   "metadata": {},
   "outputs": [
    {
     "data": {
      "text/html": [
       "<div>\n",
       "<style scoped>\n",
       "    .dataframe tbody tr th:only-of-type {\n",
       "        vertical-align: middle;\n",
       "    }\n",
       "\n",
       "    .dataframe tbody tr th {\n",
       "        vertical-align: top;\n",
       "    }\n",
       "\n",
       "    .dataframe thead th {\n",
       "        text-align: right;\n",
       "    }\n",
       "</style>\n",
       "<table border=\"1\" class=\"dataframe\">\n",
       "  <thead>\n",
       "    <tr style=\"text-align: right;\">\n",
       "      <th></th>\n",
       "      <th>sepal_length</th>\n",
       "      <th>sepal_width</th>\n",
       "      <th>petal_length</th>\n",
       "      <th>petal_width</th>\n",
       "      <th>species</th>\n",
       "    </tr>\n",
       "  </thead>\n",
       "  <tbody>\n",
       "    <tr>\n",
       "      <th>0</th>\n",
       "      <td>-0.743333</td>\n",
       "      <td>0.442667</td>\n",
       "      <td>-2.358</td>\n",
       "      <td>-0.999333</td>\n",
       "      <td>setosa</td>\n",
       "    </tr>\n",
       "    <tr>\n",
       "      <th>1</th>\n",
       "      <td>-0.943333</td>\n",
       "      <td>-0.057333</td>\n",
       "      <td>-2.358</td>\n",
       "      <td>-0.999333</td>\n",
       "      <td>setosa</td>\n",
       "    </tr>\n",
       "    <tr>\n",
       "      <th>2</th>\n",
       "      <td>-1.143333</td>\n",
       "      <td>0.142667</td>\n",
       "      <td>-2.458</td>\n",
       "      <td>-0.999333</td>\n",
       "      <td>setosa</td>\n",
       "    </tr>\n",
       "    <tr>\n",
       "      <th>3</th>\n",
       "      <td>-1.243333</td>\n",
       "      <td>0.042667</td>\n",
       "      <td>-2.258</td>\n",
       "      <td>-0.999333</td>\n",
       "      <td>setosa</td>\n",
       "    </tr>\n",
       "    <tr>\n",
       "      <th>4</th>\n",
       "      <td>-0.843333</td>\n",
       "      <td>0.542667</td>\n",
       "      <td>-2.358</td>\n",
       "      <td>-0.999333</td>\n",
       "      <td>setosa</td>\n",
       "    </tr>\n",
       "    <tr>\n",
       "      <th>...</th>\n",
       "      <td>...</td>\n",
       "      <td>...</td>\n",
       "      <td>...</td>\n",
       "      <td>...</td>\n",
       "      <td>...</td>\n",
       "    </tr>\n",
       "    <tr>\n",
       "      <th>145</th>\n",
       "      <td>0.856667</td>\n",
       "      <td>-0.057333</td>\n",
       "      <td>1.442</td>\n",
       "      <td>1.100667</td>\n",
       "      <td>virginica</td>\n",
       "    </tr>\n",
       "    <tr>\n",
       "      <th>146</th>\n",
       "      <td>0.456667</td>\n",
       "      <td>-0.557333</td>\n",
       "      <td>1.242</td>\n",
       "      <td>0.700667</td>\n",
       "      <td>virginica</td>\n",
       "    </tr>\n",
       "    <tr>\n",
       "      <th>147</th>\n",
       "      <td>0.656667</td>\n",
       "      <td>-0.057333</td>\n",
       "      <td>1.442</td>\n",
       "      <td>0.800667</td>\n",
       "      <td>virginica</td>\n",
       "    </tr>\n",
       "    <tr>\n",
       "      <th>148</th>\n",
       "      <td>0.356667</td>\n",
       "      <td>0.342667</td>\n",
       "      <td>1.642</td>\n",
       "      <td>1.100667</td>\n",
       "      <td>virginica</td>\n",
       "    </tr>\n",
       "    <tr>\n",
       "      <th>149</th>\n",
       "      <td>0.056667</td>\n",
       "      <td>-0.057333</td>\n",
       "      <td>1.342</td>\n",
       "      <td>0.600667</td>\n",
       "      <td>virginica</td>\n",
       "    </tr>\n",
       "  </tbody>\n",
       "</table>\n",
       "<p>150 rows × 5 columns</p>\n",
       "</div>"
      ],
      "text/plain": [
       "     sepal_length  sepal_width  petal_length  petal_width    species\n",
       "0       -0.743333     0.442667        -2.358    -0.999333     setosa\n",
       "1       -0.943333    -0.057333        -2.358    -0.999333     setosa\n",
       "2       -1.143333     0.142667        -2.458    -0.999333     setosa\n",
       "3       -1.243333     0.042667        -2.258    -0.999333     setosa\n",
       "4       -0.843333     0.542667        -2.358    -0.999333     setosa\n",
       "..            ...          ...           ...          ...        ...\n",
       "145      0.856667    -0.057333         1.442     1.100667  virginica\n",
       "146      0.456667    -0.557333         1.242     0.700667  virginica\n",
       "147      0.656667    -0.057333         1.442     0.800667  virginica\n",
       "148      0.356667     0.342667         1.642     1.100667  virginica\n",
       "149      0.056667    -0.057333         1.342     0.600667  virginica\n",
       "\n",
       "[150 rows x 5 columns]"
      ]
     },
     "execution_count": 74,
     "metadata": {},
     "output_type": "execute_result"
    }
   ],
   "source": [
    "# df.iloc[:5,:] - np.mean(df.iloc[:5,:])\n",
    "df['petal_length'] = df['petal_length'] - np.mean(df['petal_length'], axis=0)\n",
    "df['petal_width'] = df['petal_width'] - np.mean(df['petal_width'], axis=0)\n",
    "df['sepal_length'] = df['sepal_length'] - np.mean(df['sepal_length'], axis=0)\n",
    "df['sepal_width'] = df['sepal_width'] - np.mean(df['sepal_width'], axis=0)\n",
    "colmns = ['sepal_length','sepal_width','petal_length','petal_width']\n",
    "df\n",
    "# df[colmns] = np.mean(df[colmns],axis=0)\n",
    "# df[colmns]"
   ]
  },
  {
   "cell_type": "code",
   "execution_count": null,
   "id": "4c8ce884",
   "metadata": {},
   "outputs": [],
   "source": []
  },
  {
   "cell_type": "markdown",
   "id": "8f62f2a5",
   "metadata": {},
   "source": [
    "# Step 3: Compute the Covariance Matrix"
   ]
  },
  {
   "cell_type": "code",
   "execution_count": 75,
   "id": "e4c90ce5",
   "metadata": {
    "scrolled": true
   },
   "outputs": [],
   "source": [
    "# df['petal_length'] = np.cov(df['petal_length'],rowvar=False)\n",
    "# df['petal_width'] = np.cov(df['petal_width'],rowvar=False)\n",
    "# df['sepal_length'] = np.cov(df['sepal_length'],rowvar=False)\n",
    "# df['sepal_width'] = np.cov(df['sepal_width'],rowvar=False)\n",
    "cov_mat = np.cov(df[colmns],rowvar=False)\n"
   ]
  },
  {
   "cell_type": "markdown",
   "id": "cd5599f1",
   "metadata": {},
   "source": [
    "# Step 4: Compute eigenvalues and eigenvectors"
   ]
  },
  {
   "cell_type": "code",
   "execution_count": 76,
   "id": "73ff20e5",
   "metadata": {},
   "outputs": [
    {
     "name": "stdout",
     "output_type": "stream",
     "text": [
      "[0.02383509 0.0782095  0.24267075 4.22824171]\n",
      "[[ 0.31548719  0.58202985  0.65658877 -0.36138659]\n",
      " [-0.3197231  -0.59791083  0.73016143  0.08452251]\n",
      " [-0.47983899 -0.07623608 -0.17337266 -0.85667061]\n",
      " [ 0.75365743 -0.54583143 -0.07548102 -0.3582892 ]]\n"
     ]
    }
   ],
   "source": [
    "from numpy.linalg import eigh\n",
    "\n",
    "e_val = eigh(cov_mat)[0]\n",
    "e_vec = eigh(cov_mat)[1]\n",
    "print(e_val)\n",
    "print(e_vec)"
   ]
  },
  {
   "cell_type": "markdown",
   "id": "49ea0584",
   "metadata": {},
   "source": [
    "# Step 5: sort eigenvalues\n"
   ]
  },
  {
   "cell_type": "code",
   "execution_count": 88,
   "id": "787b0e22",
   "metadata": {},
   "outputs": [],
   "source": [
    "idx = np.argsort(e_val)[::-1]\n",
    "e_val = e_val[idx]\n",
    "e_vec = e_vec[:, idx]"
   ]
  },
  {
   "cell_type": "markdown",
   "id": "2230c73b",
   "metadata": {},
   "source": [
    "# Step 6: Select the top k eigenvectors (top 2)"
   ]
  },
  {
   "cell_type": "code",
   "execution_count": 89,
   "id": "41ff9d25",
   "metadata": {},
   "outputs": [],
   "source": [
    "top_k = e_vec[:,:2]"
   ]
  },
  {
   "cell_type": "markdown",
   "id": "c4831f32",
   "metadata": {},
   "source": [
    "# Step 7: Project the data onto the top k eigenvectors"
   ]
  },
  {
   "cell_type": "code",
   "execution_count": 90,
   "id": "70fceca9",
   "metadata": {},
   "outputs": [
    {
     "data": {
      "text/plain": [
       "array([[ 2.26243707e-03,  2.79148276e-02],\n",
       "       [ 9.90265503e-02,  2.10464272e-01],\n",
       "       [ 1.99683897e-02, -1.79002563e-02],\n",
       "       [-7.55758166e-02, -3.15593736e-02],\n",
       "       [-6.12585926e-02, -9.00792406e-02],\n",
       "       [-2.42008576e-02, -1.68677658e-01],\n",
       "       [-4.81431065e-02, -2.57892158e-01],\n",
       "       [-4.52978706e-02,  2.18793179e-02],\n",
       "       [-2.67447358e-02, -2.07595703e-02],\n",
       "       [-5.62954013e-02,  1.97632725e-01],\n",
       "       [-1.50199245e-02,  7.53180094e-02],\n",
       "       [-1.56379208e-01, -1.02150260e-01],\n",
       "       [-7.88791149e-03,  2.06844430e-01],\n",
       "       [-2.16798118e-02, -6.12996725e-02],\n",
       "       [ 1.59209718e-01,  1.51627524e-01],\n",
       "       [ 6.55154587e-03, -2.77776903e-01],\n",
       "       [ 1.67734737e-01, -1.38183228e-01],\n",
       "       [ 7.76281796e-02, -2.66683156e-02],\n",
       "       [ 2.70518681e-02,  1.20305523e-01],\n",
       "       [-6.62726502e-02, -2.13665172e-01],\n",
       "       [-1.50707908e-02,  2.39444043e-01],\n",
       "       [ 4.10654027e-02, -2.08457232e-01],\n",
       "       [ 4.48212505e-03, -2.92396751e-01],\n",
       "       [ 1.48352589e-01, -3.91232587e-02],\n",
       "       [-3.00330904e-01, -1.25021083e-01],\n",
       "       [ 3.46074722e-02,  2.53420042e-01],\n",
       "       [ 5.74497158e-02, -9.49105761e-02],\n",
       "       [-1.41727423e-02,  7.84942051e-02],\n",
       "       [ 6.57834667e-02,  1.45908896e-01],\n",
       "       [-1.23983306e-01, -4.07710791e-02],\n",
       "       [-6.04622767e-02,  7.72229891e-02],\n",
       "       [ 2.31628492e-01,  1.45524972e-01],\n",
       "       [-2.81372347e-01, -2.25669150e-01],\n",
       "       [-9.53488583e-02, -1.57810813e-01],\n",
       "       [ 1.90703413e-02,  1.43049582e-01],\n",
       "       [ 1.62598446e-01,  1.64332307e-01],\n",
       "       [ 1.76441213e-01,  2.68350376e-01],\n",
       "       [-1.68173054e-01, -9.36990825e-02],\n",
       "       [-1.07331474e-02, -7.29270457e-02],\n",
       "       [-1.37491513e-02,  8.00823030e-02],\n",
       "       [ 9.40633590e-02, -7.72476932e-02],\n",
       "       [ 3.19987487e-01,  3.49230377e-01],\n",
       "       [-7.46777682e-02, -1.92509212e-01],\n",
       "       [ 1.76208890e-01, -2.63867946e-01],\n",
       "       [-1.82842502e-01, -2.98742746e-01],\n",
       "       [ 1.42843574e-01,  9.76781440e-02],\n",
       "       [-1.89622291e-01, -1.66705637e-01],\n",
       "       [-5.95642283e-02, -8.37268490e-02],\n",
       "       [-4.65686438e-02,  1.71150242e-02],\n",
       "       [ 3.46583385e-02,  8.92940085e-02],\n",
       "       [ 1.85252879e-02,  4.06568025e-01],\n",
       "       [ 5.66512106e-04,  1.80141866e-02],\n",
       "       [-1.65317587e-03,  3.38325765e-01],\n",
       "       [ 9.35668402e-02,  1.79591392e-01],\n",
       "       [ 1.12020574e-01,  3.07757896e-01],\n",
       "       [-2.43116767e-01, -4.10760908e-02],\n",
       "       [-8.35565724e-02, -1.69810240e-01],\n",
       "       [-1.79077226e-02, -1.23029192e-02],\n",
       "       [-3.91345020e-02,  4.15336085e-01],\n",
       "       [-5.61891788e-03, -2.81141431e-01],\n",
       "       [ 4.55624408e-02,  2.69817183e-01],\n",
       "       [ 5.07192325e-02, -1.30547750e-01],\n",
       "       [ 5.71855195e-02,  6.94146830e-01],\n",
       "       [-1.69496255e-01,  6.21144083e-02],\n",
       "       [ 1.25217292e-01, -9.04576907e-02],\n",
       "       [ 9.98031365e-02,  3.14620976e-01],\n",
       "       [-1.87878621e-01, -3.28027528e-01],\n",
       "       [-2.13757370e-01,  2.71161837e-01],\n",
       "       [ 2.57192177e-01,  4.99519046e-01],\n",
       "       [-4.15766476e-02,  2.35002105e-01],\n",
       "       [-7.50315529e-02, -4.59620991e-01],\n",
       "       [ 1.22997604e-01,  2.29853888e-01],\n",
       "       [ 8.88370584e-04,  3.47854352e-01],\n",
       "       [-2.88255429e-01,  2.31071778e-01],\n",
       "       [ 4.17197556e-02,  3.21800937e-01],\n",
       "       [ 1.00226728e-01,  3.16209074e-01],\n",
       "       [ 3.53331921e-02,  5.21702780e-01],\n",
       "       [ 6.99692823e-02,  1.64920984e-01],\n",
       "       [-2.97114340e-02, -3.54245048e-02],\n",
       "       [ 7.45696136e-02,  3.18491581e-01],\n",
       "       [ 6.83084222e-03,  2.44213810e-01],\n",
       "       [-2.05510016e-02,  3.06420561e-01],\n",
       "       [ 3.29419128e-02,  1.77242766e-01],\n",
       "       [-1.78304463e-01, -1.61671275e-02],\n",
       "       [-2.50976060e-01, -4.44433499e-01],\n",
       "       [-1.14207243e-01, -3.88963063e-01],\n",
       "       [ 3.12171829e-02,  2.37167010e-01],\n",
       "       [ 1.54021000e-01,  6.14720843e-01],\n",
       "       [-1.46674512e-01, -1.88366812e-01],\n",
       "       [ 2.96222195e-02,  6.00092259e-02],\n",
       "       [-2.69651428e-01,  2.43068557e-02],\n",
       "       [-1.53484666e-01,  9.94693289e-03],\n",
       "       [ 1.69303245e-02,  2.29410241e-01],\n",
       "       [ 4.56133071e-02,  1.05691149e-01],\n",
       "       [-9.87414793e-02, -1.66171702e-02],\n",
       "       [-2.38475434e-01, -8.32042909e-02],\n",
       "       [-1.31137381e-01, -7.79963511e-02],\n",
       "       [-2.13776830e-02,  2.05394967e-01],\n",
       "       [ 2.32534844e-01,  1.25996476e-02],\n",
       "       [-5.11811717e-02, -1.05816605e-02],\n",
       "       [-2.90555728e-02, -7.60165427e-01],\n",
       "       [-1.53046739e-02, -2.96322527e-01],\n",
       "       [ 6.57720412e-02,  1.10787883e-01],\n",
       "       [-2.36790934e-01, -1.08424662e-01],\n",
       "       [-1.70633278e-04, -2.85389563e-01],\n",
       "       [-1.12371653e-01,  3.48437556e-01],\n",
       "       [-9.81266196e-02, -5.45659296e-01],\n",
       "       [-2.57191032e-01,  4.20239936e-01],\n",
       "       [-7.86746130e-02,  3.48304395e-01],\n",
       "       [ 1.10982071e-01, -4.23335418e-01],\n",
       "       [ 1.21040552e-01, -2.42440190e-01],\n",
       "       [ 7.80198444e-02,  3.76481682e-02],\n",
       "       [ 1.63061478e-01, -3.33266418e-02],\n",
       "       [ 1.40440869e-01, -2.81902882e-01],\n",
       "       [ 3.29551728e-01, -6.29029326e-01],\n",
       "       [ 2.19621263e-01, -4.79639820e-01],\n",
       "       [-1.57681907e-01, -4.41861676e-02],\n",
       "       [-3.09219573e-01, -1.33894874e-01],\n",
       "       [ 5.38460965e-02,  5.13767764e-01],\n",
       "       [-4.58247549e-02,  3.44995038e-01],\n",
       "       [ 1.85429264e-01, -2.19119324e-01],\n",
       "       [ 6.09591171e-02, -5.11855509e-01],\n",
       "       [-1.40227954e-01,  5.73182243e-01],\n",
       "       [ 1.63040977e-01,  6.45227566e-02],\n",
       "       [-6.03719696e-02, -2.86150091e-01],\n",
       "       [-2.40704986e-01,  2.05534524e-01],\n",
       "       [ 1.47503846e-01, -4.58477039e-02],\n",
       "       [ 4.02660775e-03, -2.31256463e-01],\n",
       "       [ 5.28273230e-02, -1.54180024e-01],\n",
       "       [-2.31524053e-01,  4.49530192e-01],\n",
       "       [-2.23364626e-02,  4.98898076e-01],\n",
       "       [-2.52901923e-01,  1.14548205e-01],\n",
       "       [ 1.28193066e-01, -2.08763167e-01],\n",
       "       [-1.90996358e-01,  1.53233888e-01],\n",
       "       [-5.05434412e-01,  1.72875189e-01],\n",
       "       [ 3.09828045e-01,  3.35592292e-01],\n",
       "       [ 5.55419691e-02, -7.34878937e-01],\n",
       "       [-2.21202937e-01, -1.62180236e-01],\n",
       "       [ 2.04617872e-02, -2.81835840e-01],\n",
       "       [ 2.10621786e-01, -2.72911321e-02],\n",
       "       [ 2.77653777e-01, -3.22693747e-01],\n",
       "       [ 5.05304967e-01, -1.13586596e-01],\n",
       "       [-1.53046739e-02, -2.96322527e-01],\n",
       "       [ 5.79127477e-02, -2.92569525e-01],\n",
       "       [ 2.41091000e-01, -5.04482664e-01],\n",
       "       [ 4.26195940e-01, -1.77825091e-01],\n",
       "       [ 2.54367442e-01,  1.21898172e-01],\n",
       "       [ 1.37001274e-01, -1.30481631e-01],\n",
       "       [ 4.45953047e-02, -7.23251563e-01],\n",
       "       [-1.55038628e-01, -3.62909648e-01]])"
      ]
     },
     "execution_count": 90,
     "metadata": {},
     "output_type": "execute_result"
    }
   ],
   "source": [
    "pca = np.dot(df[colmns],top_k)\n",
    "pca"
   ]
  },
  {
   "cell_type": "code",
   "execution_count": 80,
   "id": "01e74c4c",
   "metadata": {},
   "outputs": [
    {
     "data": {
      "text/plain": [
       "(150, 2)"
      ]
     },
     "execution_count": 80,
     "metadata": {},
     "output_type": "execute_result"
    }
   ],
   "source": [
    "pca.shape"
   ]
  },
  {
   "cell_type": "code",
   "execution_count": 91,
   "id": "55679c7c",
   "metadata": {},
   "outputs": [],
   "source": [
    "df['pc1'] = pca[:,0]\n",
    "df['pc2'] = pca[:,1]"
   ]
  },
  {
   "cell_type": "code",
   "execution_count": 92,
   "id": "fb475378",
   "metadata": {},
   "outputs": [
    {
     "data": {
      "text/html": [
       "<div>\n",
       "<style scoped>\n",
       "    .dataframe tbody tr th:only-of-type {\n",
       "        vertical-align: middle;\n",
       "    }\n",
       "\n",
       "    .dataframe tbody tr th {\n",
       "        vertical-align: top;\n",
       "    }\n",
       "\n",
       "    .dataframe thead th {\n",
       "        text-align: right;\n",
       "    }\n",
       "</style>\n",
       "<table border=\"1\" class=\"dataframe\">\n",
       "  <thead>\n",
       "    <tr style=\"text-align: right;\">\n",
       "      <th></th>\n",
       "      <th>sepal_length</th>\n",
       "      <th>sepal_width</th>\n",
       "      <th>petal_length</th>\n",
       "      <th>petal_width</th>\n",
       "      <th>species</th>\n",
       "      <th>pc1</th>\n",
       "      <th>pc2</th>\n",
       "      <th>species_code</th>\n",
       "    </tr>\n",
       "  </thead>\n",
       "  <tbody>\n",
       "    <tr>\n",
       "      <th>0</th>\n",
       "      <td>-0.743333</td>\n",
       "      <td>0.442667</td>\n",
       "      <td>-2.358</td>\n",
       "      <td>-0.999333</td>\n",
       "      <td>setosa</td>\n",
       "      <td>0.002262</td>\n",
       "      <td>0.027915</td>\n",
       "      <td>0</td>\n",
       "    </tr>\n",
       "    <tr>\n",
       "      <th>1</th>\n",
       "      <td>-0.943333</td>\n",
       "      <td>-0.057333</td>\n",
       "      <td>-2.358</td>\n",
       "      <td>-0.999333</td>\n",
       "      <td>setosa</td>\n",
       "      <td>0.099027</td>\n",
       "      <td>0.210464</td>\n",
       "      <td>0</td>\n",
       "    </tr>\n",
       "    <tr>\n",
       "      <th>2</th>\n",
       "      <td>-1.143333</td>\n",
       "      <td>0.142667</td>\n",
       "      <td>-2.458</td>\n",
       "      <td>-0.999333</td>\n",
       "      <td>setosa</td>\n",
       "      <td>0.019968</td>\n",
       "      <td>-0.017900</td>\n",
       "      <td>0</td>\n",
       "    </tr>\n",
       "    <tr>\n",
       "      <th>3</th>\n",
       "      <td>-1.243333</td>\n",
       "      <td>0.042667</td>\n",
       "      <td>-2.258</td>\n",
       "      <td>-0.999333</td>\n",
       "      <td>setosa</td>\n",
       "      <td>-0.075576</td>\n",
       "      <td>-0.031559</td>\n",
       "      <td>0</td>\n",
       "    </tr>\n",
       "    <tr>\n",
       "      <th>4</th>\n",
       "      <td>-0.843333</td>\n",
       "      <td>0.542667</td>\n",
       "      <td>-2.358</td>\n",
       "      <td>-0.999333</td>\n",
       "      <td>setosa</td>\n",
       "      <td>-0.061259</td>\n",
       "      <td>-0.090079</td>\n",
       "      <td>0</td>\n",
       "    </tr>\n",
       "  </tbody>\n",
       "</table>\n",
       "</div>"
      ],
      "text/plain": [
       "   sepal_length  sepal_width  petal_length  petal_width species       pc1  \\\n",
       "0     -0.743333     0.442667        -2.358    -0.999333  setosa  0.002262   \n",
       "1     -0.943333    -0.057333        -2.358    -0.999333  setosa  0.099027   \n",
       "2     -1.143333     0.142667        -2.458    -0.999333  setosa  0.019968   \n",
       "3     -1.243333     0.042667        -2.258    -0.999333  setosa -0.075576   \n",
       "4     -0.843333     0.542667        -2.358    -0.999333  setosa -0.061259   \n",
       "\n",
       "        pc2  species_code  \n",
       "0  0.027915             0  \n",
       "1  0.210464             0  \n",
       "2 -0.017900             0  \n",
       "3 -0.031559             0  \n",
       "4 -0.090079             0  "
      ]
     },
     "execution_count": 92,
     "metadata": {},
     "output_type": "execute_result"
    }
   ],
   "source": [
    "df.head()"
   ]
  },
  {
   "cell_type": "markdown",
   "id": "0307d3b7",
   "metadata": {},
   "source": [
    "# Step 8: Plot the PCA-Reduced Data"
   ]
  },
  {
   "cell_type": "code",
   "execution_count": 93,
   "id": "f3d8979d",
   "metadata": {},
   "outputs": [
    {
     "data": {
      "text/plain": [
       "<matplotlib.collections.PathCollection at 0x1f386722210>"
      ]
     },
     "execution_count": 93,
     "metadata": {},
     "output_type": "execute_result"
    },
    {
     "data": {
      "image/png": "[encoded data removed]",
      "text/plain": [
       "<Figure size 640x480 with 1 Axes>"
      ]
     },
     "metadata": {},
     "output_type": "display_data"
    }
   ],
   "source": [
    "import matplotlib.pyplot as plt\n",
    "df['species_code'] = df['species'].astype('category').cat.codes\n",
    "\n",
    "plt.scatter(df['pc1'],df['pc2'],c=df['species_code'],cmap='viridis', edgecolors='k', alpha=0.7)"
   ]
  },
  {
   "cell_type": "markdown",
   "id": "5be22d0a",
   "metadata": {},
   "source": [
    "# Extra - Bining Method"
   ]
  },
  {
   "cell_type": "markdown",
   "id": "a199792d",
   "metadata": {},
   "source": [
    "# 5,10,11,13,15,35,50,55,72,92,204,215.\n",
    "Partition them into three bins by each of the following methods:\n",
    "(a) equal-frequency (equal-depth) partitioning\n",
    "(b) equal-width partitioning"
   ]
  },
  {
   "cell_type": "code",
   "execution_count": null,
   "id": "2736ba83",
   "metadata": {},
   "outputs": [],
   "source": []
  },
  {
   "cell_type": "code",
   "execution_count": null,
   "id": "2c77736f",
   "metadata": {},
   "outputs": [],
   "source": []
  }
 ],
 "metadata": {
  "kernelspec": {
   "display_name": "Python 3",
   "language": "python",
   "name": "python3"
  },
  "language_info": {
   "codemirror_mode": {
    "name": "ipython",
    "version": 3
   },
   "file_extension": ".py",
   "mimetype": "text/x-python",
   "name": "python",
   "nbconvert_exporter": "python",
   "pygments_lexer": "ipython3",
   "version": "3.12.4"
  }
 },
 "nbformat": 4,
 "nbformat_minor": 5
}
